{
 "cells": [
  {
   "cell_type": "code",
   "execution_count": 7,
   "metadata": {
    "collapsed": true
   },
   "outputs": [],
   "source": [
    "import pygsheets\n",
    "import pandas as pd\n",
    "import datetime\n",
    "import json\n",
    "import random\n",
    "import numpy as np\n",
    "from IPython.core import display as ICD\n",
    "from IPython.display import clear_output\n",
    "pd.set_option('display.max_rows', 100)\n",
    "\n",
    "gc=pygsheets.authorize(service_file='camelotspreadsheets-5fdda9ce433a.json')"
   ]
  },
  {
   "cell_type": "code",
   "execution_count": 8,
   "metadata": {
    "collapsed": true
   },
   "outputs": [],
   "source": [
    "spreadsheet_name = \"base_dishes\"\n",
    "sh = gc.open(spreadsheet_name)\n",
    "\n",
    "def df_to_sheet(df,header=True):\n",
    "    df_columns = [np.array(df.columns)]\n",
    "    df_values = df.values.tolist()\n",
    "    df_to_sheet = np.concatenate((df_columns, df_values)).tolist()\n",
    "    if header: return df_to_sheet\n",
    "    else: return df_values"
   ]
  },
  {
   "cell_type": "code",
   "execution_count": 9,
   "metadata": {},
   "outputs": [],
   "source": [
    "sh = gc.open(spreadsheet_name)\n",
    "wks = sh.worksheet('title','template_add_receita')\n",
    "# Pega dados de cadastro da receita\n",
    "dados_basicos = pd.DataFrame(wks.get_values(\"A1\",\"B11\")).T\n",
    "dados_basicos.columns = dados_basicos.iloc[0]\n",
    "dados_basicos=dados_basicos.iloc[1:].reset_index(drop=True)\n",
    "# Pega receita propriamente dita\n",
    "receita = pd.DataFrame(wks.get_values(\"A13\",\"C100\"))\n",
    "receita.columns = receita.iloc[0]\n",
    "receita=receita.iloc[1:].reset_index(drop=True)\n",
    "# Monta string dos ingredientes\n",
    "rcp_str=\"{\"\n",
    "for i in list(receita.index):\n",
    "    rcp_str+=(\"'%s':'%s&%s',\"%(receita.loc[i,'ingredientes'],\n",
    "                               receita.loc[i,'Qtd'],\n",
    "                               receita.loc[i,'Unid']\n",
    "                              ))\n",
    "rcp_str=rcp_str[:-1]+'}'\n",
    "# Monta df com receita atual\n",
    "df_recipe_now = pd.DataFrame({'nome':dados_basicos['nome'][0],\n",
    "                              'tipos':dados_basicos['tipos'][0],\n",
    "                              'porcoes':dados_basicos['porcoes'][0],\n",
    "                              'durab_ingredientes':dados_basicos['durab_ingredientes'][0],\n",
    "                              'durab_alimento':dados_basicos['durab_alimento'][0],\n",
    "                              'congelavel':dados_basicos['congelavel'][0],\n",
    "                              'complexidade':dados_basicos['complexidade'][0],\n",
    "                              'clima':dados_basicos['clima'][0],\n",
    "                              'ingredientes':rcp_str,\n",
    "                              'link_receita':dados_basicos['link_receita'][0],\n",
    "                              'dica':dados_basicos['dica'][0]\n",
    "                             },index=[0])\n",
    "# Carrega lista completa de receitas\n",
    "wks_allrecipess = sh.worksheet('title',dados_basicos['aba'][0])\n",
    "df_allrecipes = wks_allrecipess.get_as_df()\n",
    "\n",
    "def atualiza_receitas(dados_basicos,df_allrecipes,wks_allrecipess):\n",
    "    # Checa se é uma receita repetida\n",
    "    if dados_basicos['nome'][0] in list(df_allrecipes['nome']):\n",
    "        # Ve se usuario quer substituí-la\n",
    "        resp = input(\"Essa receita já existe. Substituí-la (S/N)? \")\n",
    "        while resp.lower() not in [\"s\",\"n\"]:\n",
    "            clear_output()\n",
    "            resp = input(\"Essa receita já existe. Substituí-la (S/N)? \")\n",
    "        if resp=='S':\n",
    "            df_allrecipes=df_allrecipes.loc[df_allrecipes['nome']!=dados_basicos['nome'][0]]\n",
    "            df_allrecipes=df_allrecipes.append(df_recipe_now)\n",
    "        else:\n",
    "            print(\"Interrompendo atualização\")\n",
    "            return 0\n",
    "    else: df_allrecipes=df_allrecipes.append(df_recipe_now)\n",
    "    # Salva lista de receitas\n",
    "    df_allrecipes=df_allrecipes.sort_values(by='nome')\n",
    "    wks_allrecipess.clear()\n",
    "    wks_allrecipess.update_values(\"A1\",df_to_sheet(df_allrecipes))\n",
    "    \n",
    "atualiza_receitas(dados_basicos,df_allrecipes,wks_allrecipess)"
   ]
  },
  {
   "cell_type": "code",
   "execution_count": null,
   "metadata": {
    "collapsed": true
   },
   "outputs": [],
   "source": []
  }
 ],
 "metadata": {
  "kernelspec": {
   "display_name": "Python 3",
   "language": "python",
   "name": "python3"
  },
  "language_info": {
   "codemirror_mode": {
    "name": "ipython",
    "version": 3
   },
   "file_extension": ".py",
   "mimetype": "text/x-python",
   "name": "python",
   "nbconvert_exporter": "python",
   "pygments_lexer": "ipython3",
   "version": "3.6.3"
  }
 },
 "nbformat": 4,
 "nbformat_minor": 2
}
